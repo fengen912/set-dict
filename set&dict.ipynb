{
 "cells": [
  {
   "cell_type": "code",
   "execution_count": 1,
   "id": "b9593dca",
   "metadata": {},
   "outputs": [],
   "source": [
    "d={'運動鞋':2500,'皮鞋':3000}"
   ]
  },
  {
   "cell_type": "code",
   "execution_count": 3,
   "id": "43b969ac",
   "metadata": {},
   "outputs": [
    {
     "data": {
      "text/plain": [
       "3000"
      ]
     },
     "execution_count": 3,
     "metadata": {},
     "output_type": "execute_result"
    }
   ],
   "source": [
    "d['皮鞋']"
   ]
  },
  {
   "cell_type": "code",
   "execution_count": 4,
   "id": "21274d57",
   "metadata": {},
   "outputs": [
    {
     "data": {
      "text/plain": [
       "{'運動鞋': 2500, '皮鞋': 3500}"
      ]
     },
     "execution_count": 4,
     "metadata": {},
     "output_type": "execute_result"
    }
   ],
   "source": [
    "d['皮鞋']=3500\n",
    "d"
   ]
  },
  {
   "cell_type": "code",
   "execution_count": 28,
   "id": "dc81cfce",
   "metadata": {},
   "outputs": [],
   "source": [
    "tiam = {'運動鞋': 2500, '皮鞋': 3000}"
   ]
  },
  {
   "cell_type": "code",
   "execution_count": 29,
   "id": "b8f4137b",
   "metadata": {},
   "outputs": [],
   "source": [
    "tiam['運動鞋']=3000"
   ]
  },
  {
   "cell_type": "code",
   "execution_count": 30,
   "id": "d0f7e368",
   "metadata": {},
   "outputs": [],
   "source": [
    "tiam['淺拖']=500"
   ]
  },
  {
   "cell_type": "code",
   "execution_count": 31,
   "id": "561bf40d",
   "metadata": {
    "scrolled": true
   },
   "outputs": [],
   "source": [
    "del tiam['皮鞋']"
   ]
  },
  {
   "cell_type": "code",
   "execution_count": 32,
   "id": "c8ac83a9",
   "metadata": {},
   "outputs": [
    {
     "data": {
      "text/plain": [
       "{'運動鞋': 3000, '淺拖': 500}"
      ]
     },
     "execution_count": 32,
     "metadata": {},
     "output_type": "execute_result"
    }
   ],
   "source": [
    "tiam"
   ]
  },
  {
   "cell_type": "code",
   "execution_count": 37,
   "id": "d046243a",
   "metadata": {},
   "outputs": [],
   "source": [
    "s = [0, 1, 2]"
   ]
  },
  {
   "cell_type": "code",
   "execution_count": 38,
   "id": "afbb9fda",
   "metadata": {},
   "outputs": [
    {
     "data": {
      "text/plain": [
       "[0, 9, 1, 2]"
      ]
     },
     "execution_count": 38,
     "metadata": {},
     "output_type": "execute_result"
    }
   ],
   "source": [
    "s.insert(1,9)\n",
    "s"
   ]
  },
  {
   "cell_type": "code",
   "execution_count": 39,
   "id": "8fd596c3",
   "metadata": {},
   "outputs": [
    {
     "data": {
      "text/plain": [
       "[0, 9, 1, 2, 3]"
      ]
     },
     "execution_count": 39,
     "metadata": {},
     "output_type": "execute_result"
    }
   ],
   "source": [
    "s.append(3)\n",
    "s"
   ]
  },
  {
   "cell_type": "code",
   "execution_count": 40,
   "id": "b93210ff",
   "metadata": {},
   "outputs": [],
   "source": [
    "t= [4, 5]\n",
    "s.extend(t)"
   ]
  },
  {
   "cell_type": "code",
   "execution_count": 41,
   "id": "a0c68670",
   "metadata": {},
   "outputs": [
    {
     "data": {
      "text/plain": [
       "[0, 9, 1, 2, 3, 4, 5]"
      ]
     },
     "execution_count": 41,
     "metadata": {},
     "output_type": "execute_result"
    }
   ],
   "source": [
    "s"
   ]
  },
  {
   "cell_type": "code",
   "execution_count": 44,
   "id": "bcf542ab",
   "metadata": {},
   "outputs": [],
   "source": [
    "s = [0, 1, 2,3]\n",
    "s=s+t"
   ]
  },
  {
   "cell_type": "code",
   "execution_count": 45,
   "id": "398b1c32",
   "metadata": {},
   "outputs": [
    {
     "data": {
      "text/plain": [
       "[0, 1, 2, 3, 4, 5]"
      ]
     },
     "execution_count": 45,
     "metadata": {},
     "output_type": "execute_result"
    }
   ],
   "source": [
    "s"
   ]
  },
  {
   "cell_type": "code",
   "execution_count": null,
   "id": "d5829f3c",
   "metadata": {},
   "outputs": [],
   "source": []
  }
 ],
 "metadata": {
  "kernelspec": {
   "display_name": "Python 3 (ipykernel)",
   "language": "python",
   "name": "python3"
  },
  "language_info": {
   "codemirror_mode": {
    "name": "ipython",
    "version": 3
   },
   "file_extension": ".py",
   "mimetype": "text/x-python",
   "name": "python",
   "nbconvert_exporter": "python",
   "pygments_lexer": "ipython3",
   "version": "3.11.4"
  }
 },
 "nbformat": 4,
 "nbformat_minor": 5
}
